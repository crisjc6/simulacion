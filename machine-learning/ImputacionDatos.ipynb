{
  "nbformat": 4,
  "nbformat_minor": 0,
  "metadata": {
    "colab": {
      "name": "ImputacionDatos.ipynb",
      "provenance": []
    },
    "kernelspec": {
      "name": "python3",
      "display_name": "Python 3"
    },
    "language_info": {
      "name": "python"
    }
  },
  "cells": [
    {
      "cell_type": "code",
      "metadata": {
        "id": "llq5j8sIINMm"
      },
      "source": [
        "import pandas as pd\n",
        "from sklearn.model_selection import train_test_split\n",
        "import missingno as msno\n",
        "\n",
        "from sklearn.ensemble import RandomForestRegressor\n",
        "from sklearn.metrics import mean_absolute_error\n",
        "\n",
        "from sklearn.impute import SimpleImputer"
      ],
      "execution_count": 64,
      "outputs": []
    },
    {
      "cell_type": "code",
      "metadata": {
        "id": "IRpupw6oWvl5"
      },
      "source": [
        "data = pd.read_csv('melb_data (1).csv')"
      ],
      "execution_count": 2,
      "outputs": []
    },
    {
      "cell_type": "code",
      "metadata": {
        "colab": {
          "base_uri": "https://localhost:8080/",
          "height": 317
        },
        "id": "NvG1GOLUW1mP",
        "outputId": "47f2d7c9-bc03-4b38-e332-b51c3d145ae0"
      },
      "source": [
        "data.describe()"
      ],
      "execution_count": 3,
      "outputs": [
        {
          "output_type": "execute_result",
          "data": {
            "text/html": [
              "<div>\n",
              "<style scoped>\n",
              "    .dataframe tbody tr th:only-of-type {\n",
              "        vertical-align: middle;\n",
              "    }\n",
              "\n",
              "    .dataframe tbody tr th {\n",
              "        vertical-align: top;\n",
              "    }\n",
              "\n",
              "    .dataframe thead th {\n",
              "        text-align: right;\n",
              "    }\n",
              "</style>\n",
              "<table border=\"1\" class=\"dataframe\">\n",
              "  <thead>\n",
              "    <tr style=\"text-align: right;\">\n",
              "      <th></th>\n",
              "      <th>Unnamed: 0</th>\n",
              "      <th>Rooms</th>\n",
              "      <th>Price</th>\n",
              "      <th>Distance</th>\n",
              "      <th>Postcode</th>\n",
              "      <th>Bedroom2</th>\n",
              "      <th>Bathroom</th>\n",
              "      <th>Car</th>\n",
              "      <th>Landsize</th>\n",
              "      <th>BuildingArea</th>\n",
              "      <th>YearBuilt</th>\n",
              "      <th>Lattitude</th>\n",
              "      <th>Longtitude</th>\n",
              "      <th>Propertycount</th>\n",
              "    </tr>\n",
              "  </thead>\n",
              "  <tbody>\n",
              "    <tr>\n",
              "      <th>count</th>\n",
              "      <td>18396.000000</td>\n",
              "      <td>18396.000000</td>\n",
              "      <td>1.839600e+04</td>\n",
              "      <td>18395.000000</td>\n",
              "      <td>18395.000000</td>\n",
              "      <td>14927.000000</td>\n",
              "      <td>14925.000000</td>\n",
              "      <td>14820.000000</td>\n",
              "      <td>13603.000000</td>\n",
              "      <td>7762.000000</td>\n",
              "      <td>8958.000000</td>\n",
              "      <td>15064.000000</td>\n",
              "      <td>15064.000000</td>\n",
              "      <td>18395.000000</td>\n",
              "    </tr>\n",
              "    <tr>\n",
              "      <th>mean</th>\n",
              "      <td>11826.787073</td>\n",
              "      <td>2.935040</td>\n",
              "      <td>1.056697e+06</td>\n",
              "      <td>10.389986</td>\n",
              "      <td>3107.140147</td>\n",
              "      <td>2.913043</td>\n",
              "      <td>1.538492</td>\n",
              "      <td>1.615520</td>\n",
              "      <td>558.116371</td>\n",
              "      <td>151.220219</td>\n",
              "      <td>1965.879996</td>\n",
              "      <td>-37.809849</td>\n",
              "      <td>144.996338</td>\n",
              "      <td>7517.975265</td>\n",
              "    </tr>\n",
              "    <tr>\n",
              "      <th>std</th>\n",
              "      <td>6800.710448</td>\n",
              "      <td>0.958202</td>\n",
              "      <td>6.419217e+05</td>\n",
              "      <td>6.009050</td>\n",
              "      <td>95.000995</td>\n",
              "      <td>0.964641</td>\n",
              "      <td>0.689311</td>\n",
              "      <td>0.955916</td>\n",
              "      <td>3987.326586</td>\n",
              "      <td>519.188596</td>\n",
              "      <td>37.013261</td>\n",
              "      <td>0.081152</td>\n",
              "      <td>0.106375</td>\n",
              "      <td>4488.416599</td>\n",
              "    </tr>\n",
              "    <tr>\n",
              "      <th>min</th>\n",
              "      <td>1.000000</td>\n",
              "      <td>1.000000</td>\n",
              "      <td>8.500000e+04</td>\n",
              "      <td>0.000000</td>\n",
              "      <td>3000.000000</td>\n",
              "      <td>0.000000</td>\n",
              "      <td>0.000000</td>\n",
              "      <td>0.000000</td>\n",
              "      <td>0.000000</td>\n",
              "      <td>0.000000</td>\n",
              "      <td>1196.000000</td>\n",
              "      <td>-38.182550</td>\n",
              "      <td>144.431810</td>\n",
              "      <td>249.000000</td>\n",
              "    </tr>\n",
              "    <tr>\n",
              "      <th>25%</th>\n",
              "      <td>5936.750000</td>\n",
              "      <td>2.000000</td>\n",
              "      <td>6.330000e+05</td>\n",
              "      <td>6.300000</td>\n",
              "      <td>3046.000000</td>\n",
              "      <td>2.000000</td>\n",
              "      <td>1.000000</td>\n",
              "      <td>1.000000</td>\n",
              "      <td>176.500000</td>\n",
              "      <td>93.000000</td>\n",
              "      <td>1950.000000</td>\n",
              "      <td>-37.858100</td>\n",
              "      <td>144.931193</td>\n",
              "      <td>4294.000000</td>\n",
              "    </tr>\n",
              "    <tr>\n",
              "      <th>50%</th>\n",
              "      <td>11820.500000</td>\n",
              "      <td>3.000000</td>\n",
              "      <td>8.800000e+05</td>\n",
              "      <td>9.700000</td>\n",
              "      <td>3085.000000</td>\n",
              "      <td>3.000000</td>\n",
              "      <td>1.000000</td>\n",
              "      <td>2.000000</td>\n",
              "      <td>440.000000</td>\n",
              "      <td>126.000000</td>\n",
              "      <td>1970.000000</td>\n",
              "      <td>-37.803625</td>\n",
              "      <td>145.000920</td>\n",
              "      <td>6567.000000</td>\n",
              "    </tr>\n",
              "    <tr>\n",
              "      <th>75%</th>\n",
              "      <td>17734.250000</td>\n",
              "      <td>3.000000</td>\n",
              "      <td>1.302000e+06</td>\n",
              "      <td>13.300000</td>\n",
              "      <td>3149.000000</td>\n",
              "      <td>3.000000</td>\n",
              "      <td>2.000000</td>\n",
              "      <td>2.000000</td>\n",
              "      <td>651.000000</td>\n",
              "      <td>174.000000</td>\n",
              "      <td>2000.000000</td>\n",
              "      <td>-37.756270</td>\n",
              "      <td>145.060000</td>\n",
              "      <td>10331.000000</td>\n",
              "    </tr>\n",
              "    <tr>\n",
              "      <th>max</th>\n",
              "      <td>23546.000000</td>\n",
              "      <td>12.000000</td>\n",
              "      <td>9.000000e+06</td>\n",
              "      <td>48.100000</td>\n",
              "      <td>3978.000000</td>\n",
              "      <td>20.000000</td>\n",
              "      <td>8.000000</td>\n",
              "      <td>10.000000</td>\n",
              "      <td>433014.000000</td>\n",
              "      <td>44515.000000</td>\n",
              "      <td>2018.000000</td>\n",
              "      <td>-37.408530</td>\n",
              "      <td>145.526350</td>\n",
              "      <td>21650.000000</td>\n",
              "    </tr>\n",
              "  </tbody>\n",
              "</table>\n",
              "</div>"
            ],
            "text/plain": [
              "         Unnamed: 0         Rooms  ...    Longtitude  Propertycount\n",
              "count  18396.000000  18396.000000  ...  15064.000000   18395.000000\n",
              "mean   11826.787073      2.935040  ...    144.996338    7517.975265\n",
              "std     6800.710448      0.958202  ...      0.106375    4488.416599\n",
              "min        1.000000      1.000000  ...    144.431810     249.000000\n",
              "25%     5936.750000      2.000000  ...    144.931193    4294.000000\n",
              "50%    11820.500000      3.000000  ...    145.000920    6567.000000\n",
              "75%    17734.250000      3.000000  ...    145.060000   10331.000000\n",
              "max    23546.000000     12.000000  ...    145.526350   21650.000000\n",
              "\n",
              "[8 rows x 14 columns]"
            ]
          },
          "metadata": {
            "tags": []
          },
          "execution_count": 3
        }
      ]
    },
    {
      "cell_type": "code",
      "metadata": {
        "colab": {
          "base_uri": "https://localhost:8080/"
        },
        "id": "UdDXEK6vXAh2",
        "outputId": "7101f368-27d7-44d8-cdfe-940d0146581b"
      },
      "source": [
        "data.info()"
      ],
      "execution_count": 5,
      "outputs": [
        {
          "output_type": "stream",
          "text": [
            "<class 'pandas.core.frame.DataFrame'>\n",
            "RangeIndex: 18396 entries, 0 to 18395\n",
            "Data columns (total 22 columns):\n",
            " #   Column         Non-Null Count  Dtype  \n",
            "---  ------         --------------  -----  \n",
            " 0   Unnamed: 0     18396 non-null  int64  \n",
            " 1   Suburb         18396 non-null  object \n",
            " 2   Address        18396 non-null  object \n",
            " 3   Rooms          18396 non-null  int64  \n",
            " 4   Type           18396 non-null  object \n",
            " 5   Price          18396 non-null  float64\n",
            " 6   Method         18396 non-null  object \n",
            " 7   SellerG        18396 non-null  object \n",
            " 8   Date           18396 non-null  object \n",
            " 9   Distance       18395 non-null  float64\n",
            " 10  Postcode       18395 non-null  float64\n",
            " 11  Bedroom2       14927 non-null  float64\n",
            " 12  Bathroom       14925 non-null  float64\n",
            " 13  Car            14820 non-null  float64\n",
            " 14  Landsize       13603 non-null  float64\n",
            " 15  BuildingArea   7762 non-null   float64\n",
            " 16  YearBuilt      8958 non-null   float64\n",
            " 17  CouncilArea    12233 non-null  object \n",
            " 18  Lattitude      15064 non-null  float64\n",
            " 19  Longtitude     15064 non-null  float64\n",
            " 20  Regionname     18395 non-null  object \n",
            " 21  Propertycount  18395 non-null  float64\n",
            "dtypes: float64(12), int64(2), object(8)\n",
            "memory usage: 3.1+ MB\n"
          ],
          "name": "stdout"
        }
      ]
    },
    {
      "cell_type": "code",
      "metadata": {
        "colab": {
          "base_uri": "https://localhost:8080/"
        },
        "id": "kbG6QjG3XJAH",
        "outputId": "6d013060-39fc-4566-b2e9-b5e0efd92c5d"
      },
      "source": [
        "data.isnull().sum()"
      ],
      "execution_count": 6,
      "outputs": [
        {
          "output_type": "execute_result",
          "data": {
            "text/plain": [
              "Unnamed: 0           0\n",
              "Suburb               0\n",
              "Address              0\n",
              "Rooms                0\n",
              "Type                 0\n",
              "Price                0\n",
              "Method               0\n",
              "SellerG              0\n",
              "Date                 0\n",
              "Distance             1\n",
              "Postcode             1\n",
              "Bedroom2          3469\n",
              "Bathroom          3471\n",
              "Car               3576\n",
              "Landsize          4793\n",
              "BuildingArea     10634\n",
              "YearBuilt         9438\n",
              "CouncilArea       6163\n",
              "Lattitude         3332\n",
              "Longtitude        3332\n",
              "Regionname           1\n",
              "Propertycount        1\n",
              "dtype: int64"
            ]
          },
          "metadata": {
            "tags": []
          },
          "execution_count": 6
        }
      ]
    },
    {
      "cell_type": "code",
      "metadata": {
        "id": "pVgsMAXnX0KQ"
      },
      "source": [
        "data_aux = data.drop(['Unnamed: 0'],axis=1)"
      ],
      "execution_count": 8,
      "outputs": []
    },
    {
      "cell_type": "code",
      "metadata": {
        "id": "KF1LwP-LYFyO"
      },
      "source": [
        "X = data_aux.drop(['Price'],axis=1)\n"
      ],
      "execution_count": 11,
      "outputs": []
    },
    {
      "cell_type": "code",
      "metadata": {
        "colab": {
          "base_uri": "https://localhost:8080/",
          "height": 677
        },
        "id": "te36xTppYObu",
        "outputId": "4feff4ae-f2bd-465a-d68e-91ee9f3f9d68"
      },
      "source": [
        "X"
      ],
      "execution_count": 43,
      "outputs": [
        {
          "output_type": "execute_result",
          "data": {
            "text/html": [
              "<div>\n",
              "<style scoped>\n",
              "    .dataframe tbody tr th:only-of-type {\n",
              "        vertical-align: middle;\n",
              "    }\n",
              "\n",
              "    .dataframe tbody tr th {\n",
              "        vertical-align: top;\n",
              "    }\n",
              "\n",
              "    .dataframe thead th {\n",
              "        text-align: right;\n",
              "    }\n",
              "</style>\n",
              "<table border=\"1\" class=\"dataframe\">\n",
              "  <thead>\n",
              "    <tr style=\"text-align: right;\">\n",
              "      <th></th>\n",
              "      <th>Suburb</th>\n",
              "      <th>Address</th>\n",
              "      <th>Rooms</th>\n",
              "      <th>Type</th>\n",
              "      <th>Method</th>\n",
              "      <th>SellerG</th>\n",
              "      <th>Date</th>\n",
              "      <th>Distance</th>\n",
              "      <th>Postcode</th>\n",
              "      <th>Bedroom2</th>\n",
              "      <th>Bathroom</th>\n",
              "      <th>Car</th>\n",
              "      <th>Landsize</th>\n",
              "      <th>BuildingArea</th>\n",
              "      <th>YearBuilt</th>\n",
              "      <th>CouncilArea</th>\n",
              "      <th>Lattitude</th>\n",
              "      <th>Longtitude</th>\n",
              "      <th>Regionname</th>\n",
              "      <th>Propertycount</th>\n",
              "    </tr>\n",
              "  </thead>\n",
              "  <tbody>\n",
              "    <tr>\n",
              "      <th>0</th>\n",
              "      <td>Abbotsford</td>\n",
              "      <td>85 Turner St</td>\n",
              "      <td>2</td>\n",
              "      <td>h</td>\n",
              "      <td>S</td>\n",
              "      <td>Biggin</td>\n",
              "      <td>3/12/2016</td>\n",
              "      <td>2.5</td>\n",
              "      <td>3067.0</td>\n",
              "      <td>2.0</td>\n",
              "      <td>1.0</td>\n",
              "      <td>1.0</td>\n",
              "      <td>202.0</td>\n",
              "      <td>NaN</td>\n",
              "      <td>NaN</td>\n",
              "      <td>Yarra</td>\n",
              "      <td>-37.79960</td>\n",
              "      <td>144.99840</td>\n",
              "      <td>Northern Metropolitan</td>\n",
              "      <td>4019.0</td>\n",
              "    </tr>\n",
              "    <tr>\n",
              "      <th>1</th>\n",
              "      <td>Abbotsford</td>\n",
              "      <td>25 Bloomburg St</td>\n",
              "      <td>2</td>\n",
              "      <td>h</td>\n",
              "      <td>S</td>\n",
              "      <td>Biggin</td>\n",
              "      <td>4/02/2016</td>\n",
              "      <td>2.5</td>\n",
              "      <td>3067.0</td>\n",
              "      <td>2.0</td>\n",
              "      <td>1.0</td>\n",
              "      <td>0.0</td>\n",
              "      <td>156.0</td>\n",
              "      <td>79.0</td>\n",
              "      <td>1900.0</td>\n",
              "      <td>Yarra</td>\n",
              "      <td>-37.80790</td>\n",
              "      <td>144.99340</td>\n",
              "      <td>Northern Metropolitan</td>\n",
              "      <td>4019.0</td>\n",
              "    </tr>\n",
              "    <tr>\n",
              "      <th>2</th>\n",
              "      <td>Abbotsford</td>\n",
              "      <td>5 Charles St</td>\n",
              "      <td>3</td>\n",
              "      <td>h</td>\n",
              "      <td>SP</td>\n",
              "      <td>Biggin</td>\n",
              "      <td>4/03/2017</td>\n",
              "      <td>2.5</td>\n",
              "      <td>3067.0</td>\n",
              "      <td>3.0</td>\n",
              "      <td>2.0</td>\n",
              "      <td>0.0</td>\n",
              "      <td>134.0</td>\n",
              "      <td>150.0</td>\n",
              "      <td>1900.0</td>\n",
              "      <td>Yarra</td>\n",
              "      <td>-37.80930</td>\n",
              "      <td>144.99440</td>\n",
              "      <td>Northern Metropolitan</td>\n",
              "      <td>4019.0</td>\n",
              "    </tr>\n",
              "    <tr>\n",
              "      <th>3</th>\n",
              "      <td>Abbotsford</td>\n",
              "      <td>40 Federation La</td>\n",
              "      <td>3</td>\n",
              "      <td>h</td>\n",
              "      <td>PI</td>\n",
              "      <td>Biggin</td>\n",
              "      <td>4/03/2017</td>\n",
              "      <td>2.5</td>\n",
              "      <td>3067.0</td>\n",
              "      <td>3.0</td>\n",
              "      <td>2.0</td>\n",
              "      <td>1.0</td>\n",
              "      <td>94.0</td>\n",
              "      <td>NaN</td>\n",
              "      <td>NaN</td>\n",
              "      <td>Yarra</td>\n",
              "      <td>-37.79690</td>\n",
              "      <td>144.99690</td>\n",
              "      <td>Northern Metropolitan</td>\n",
              "      <td>4019.0</td>\n",
              "    </tr>\n",
              "    <tr>\n",
              "      <th>4</th>\n",
              "      <td>Abbotsford</td>\n",
              "      <td>55a Park St</td>\n",
              "      <td>4</td>\n",
              "      <td>h</td>\n",
              "      <td>VB</td>\n",
              "      <td>Nelson</td>\n",
              "      <td>4/06/2016</td>\n",
              "      <td>2.5</td>\n",
              "      <td>3067.0</td>\n",
              "      <td>3.0</td>\n",
              "      <td>1.0</td>\n",
              "      <td>2.0</td>\n",
              "      <td>120.0</td>\n",
              "      <td>142.0</td>\n",
              "      <td>2014.0</td>\n",
              "      <td>Yarra</td>\n",
              "      <td>-37.80720</td>\n",
              "      <td>144.99410</td>\n",
              "      <td>Northern Metropolitan</td>\n",
              "      <td>4019.0</td>\n",
              "    </tr>\n",
              "    <tr>\n",
              "      <th>...</th>\n",
              "      <td>...</td>\n",
              "      <td>...</td>\n",
              "      <td>...</td>\n",
              "      <td>...</td>\n",
              "      <td>...</td>\n",
              "      <td>...</td>\n",
              "      <td>...</td>\n",
              "      <td>...</td>\n",
              "      <td>...</td>\n",
              "      <td>...</td>\n",
              "      <td>...</td>\n",
              "      <td>...</td>\n",
              "      <td>...</td>\n",
              "      <td>...</td>\n",
              "      <td>...</td>\n",
              "      <td>...</td>\n",
              "      <td>...</td>\n",
              "      <td>...</td>\n",
              "      <td>...</td>\n",
              "      <td>...</td>\n",
              "    </tr>\n",
              "    <tr>\n",
              "      <th>18391</th>\n",
              "      <td>Williamstown</td>\n",
              "      <td>8/2 Thompson St</td>\n",
              "      <td>2</td>\n",
              "      <td>t</td>\n",
              "      <td>SP</td>\n",
              "      <td>Greg</td>\n",
              "      <td>26/08/2017</td>\n",
              "      <td>6.8</td>\n",
              "      <td>3016.0</td>\n",
              "      <td>2.0</td>\n",
              "      <td>2.0</td>\n",
              "      <td>1.0</td>\n",
              "      <td>NaN</td>\n",
              "      <td>89.0</td>\n",
              "      <td>2010.0</td>\n",
              "      <td>NaN</td>\n",
              "      <td>-37.86393</td>\n",
              "      <td>144.90484</td>\n",
              "      <td>Western Metropolitan</td>\n",
              "      <td>6380.0</td>\n",
              "    </tr>\n",
              "    <tr>\n",
              "      <th>18392</th>\n",
              "      <td>Williamstown</td>\n",
              "      <td>96 Verdon St</td>\n",
              "      <td>4</td>\n",
              "      <td>h</td>\n",
              "      <td>PI</td>\n",
              "      <td>Sweeney</td>\n",
              "      <td>26/08/2017</td>\n",
              "      <td>6.8</td>\n",
              "      <td>3016.0</td>\n",
              "      <td>4.0</td>\n",
              "      <td>1.0</td>\n",
              "      <td>5.0</td>\n",
              "      <td>866.0</td>\n",
              "      <td>157.0</td>\n",
              "      <td>1920.0</td>\n",
              "      <td>NaN</td>\n",
              "      <td>-37.85908</td>\n",
              "      <td>144.89299</td>\n",
              "      <td>Western Metropolitan</td>\n",
              "      <td>6380.0</td>\n",
              "    </tr>\n",
              "    <tr>\n",
              "      <th>18393</th>\n",
              "      <td>Yallambie</td>\n",
              "      <td>17 Amaroo Wy</td>\n",
              "      <td>4</td>\n",
              "      <td>h</td>\n",
              "      <td>S</td>\n",
              "      <td>Buckingham</td>\n",
              "      <td>26/08/2017</td>\n",
              "      <td>12.7</td>\n",
              "      <td>3085.0</td>\n",
              "      <td>4.0</td>\n",
              "      <td>3.0</td>\n",
              "      <td>2.0</td>\n",
              "      <td>NaN</td>\n",
              "      <td>NaN</td>\n",
              "      <td>NaN</td>\n",
              "      <td>NaN</td>\n",
              "      <td>-37.72006</td>\n",
              "      <td>145.10547</td>\n",
              "      <td>Northern Metropolitan</td>\n",
              "      <td>1369.0</td>\n",
              "    </tr>\n",
              "    <tr>\n",
              "      <th>18394</th>\n",
              "      <td>Yarraville</td>\n",
              "      <td>6 Agnes St</td>\n",
              "      <td>4</td>\n",
              "      <td>h</td>\n",
              "      <td>SP</td>\n",
              "      <td>Village</td>\n",
              "      <td>26/08/2017</td>\n",
              "      <td>6.3</td>\n",
              "      <td>3013.0</td>\n",
              "      <td>4.0</td>\n",
              "      <td>1.0</td>\n",
              "      <td>1.0</td>\n",
              "      <td>362.0</td>\n",
              "      <td>112.0</td>\n",
              "      <td>1920.0</td>\n",
              "      <td>NaN</td>\n",
              "      <td>-37.81188</td>\n",
              "      <td>144.88449</td>\n",
              "      <td>Western Metropolitan</td>\n",
              "      <td>6543.0</td>\n",
              "    </tr>\n",
              "    <tr>\n",
              "      <th>18395</th>\n",
              "      <td>Yarraville</td>\n",
              "      <td>33 Freeman St</td>\n",
              "      <td>4</td>\n",
              "      <td>h</td>\n",
              "      <td>VB</td>\n",
              "      <td>Village</td>\n",
              "      <td>26/08/2017</td>\n",
              "      <td>6.3</td>\n",
              "      <td>3013.0</td>\n",
              "      <td>4.0</td>\n",
              "      <td>2.0</td>\n",
              "      <td>2.0</td>\n",
              "      <td>NaN</td>\n",
              "      <td>139.0</td>\n",
              "      <td>1950.0</td>\n",
              "      <td>NaN</td>\n",
              "      <td>-37.81829</td>\n",
              "      <td>144.87404</td>\n",
              "      <td>Western Metropolitan</td>\n",
              "      <td>6543.0</td>\n",
              "    </tr>\n",
              "  </tbody>\n",
              "</table>\n",
              "<p>18396 rows × 20 columns</p>\n",
              "</div>"
            ],
            "text/plain": [
              "             Suburb           Address  ...             Regionname Propertycount\n",
              "0        Abbotsford      85 Turner St  ...  Northern Metropolitan        4019.0\n",
              "1        Abbotsford   25 Bloomburg St  ...  Northern Metropolitan        4019.0\n",
              "2        Abbotsford      5 Charles St  ...  Northern Metropolitan        4019.0\n",
              "3        Abbotsford  40 Federation La  ...  Northern Metropolitan        4019.0\n",
              "4        Abbotsford       55a Park St  ...  Northern Metropolitan        4019.0\n",
              "...             ...               ...  ...                    ...           ...\n",
              "18391  Williamstown   8/2 Thompson St  ...   Western Metropolitan        6380.0\n",
              "18392  Williamstown      96 Verdon St  ...   Western Metropolitan        6380.0\n",
              "18393     Yallambie      17 Amaroo Wy  ...  Northern Metropolitan        1369.0\n",
              "18394    Yarraville        6 Agnes St  ...   Western Metropolitan        6543.0\n",
              "18395    Yarraville     33 Freeman St  ...   Western Metropolitan        6543.0\n",
              "\n",
              "[18396 rows x 20 columns]"
            ]
          },
          "metadata": {
            "tags": []
          },
          "execution_count": 43
        }
      ]
    },
    {
      "cell_type": "code",
      "metadata": {
        "id": "kw_WTF4ZmSa-"
      },
      "source": [
        "X = X.select_dtypes(exclude=['object'])"
      ],
      "execution_count": 45,
      "outputs": []
    },
    {
      "cell_type": "code",
      "metadata": {
        "colab": {
          "base_uri": "https://localhost:8080/",
          "height": 419
        },
        "id": "MlgFWDKImaU-",
        "outputId": "979d6608-700d-41a2-9a75-3418edc45731"
      },
      "source": [
        "X"
      ],
      "execution_count": 46,
      "outputs": [
        {
          "output_type": "execute_result",
          "data": {
            "text/html": [
              "<div>\n",
              "<style scoped>\n",
              "    .dataframe tbody tr th:only-of-type {\n",
              "        vertical-align: middle;\n",
              "    }\n",
              "\n",
              "    .dataframe tbody tr th {\n",
              "        vertical-align: top;\n",
              "    }\n",
              "\n",
              "    .dataframe thead th {\n",
              "        text-align: right;\n",
              "    }\n",
              "</style>\n",
              "<table border=\"1\" class=\"dataframe\">\n",
              "  <thead>\n",
              "    <tr style=\"text-align: right;\">\n",
              "      <th></th>\n",
              "      <th>Rooms</th>\n",
              "      <th>Distance</th>\n",
              "      <th>Postcode</th>\n",
              "      <th>Bedroom2</th>\n",
              "      <th>Bathroom</th>\n",
              "      <th>Car</th>\n",
              "      <th>Landsize</th>\n",
              "      <th>BuildingArea</th>\n",
              "      <th>YearBuilt</th>\n",
              "      <th>Lattitude</th>\n",
              "      <th>Longtitude</th>\n",
              "      <th>Propertycount</th>\n",
              "    </tr>\n",
              "  </thead>\n",
              "  <tbody>\n",
              "    <tr>\n",
              "      <th>0</th>\n",
              "      <td>2</td>\n",
              "      <td>2.5</td>\n",
              "      <td>3067.0</td>\n",
              "      <td>2.0</td>\n",
              "      <td>1.0</td>\n",
              "      <td>1.0</td>\n",
              "      <td>202.0</td>\n",
              "      <td>NaN</td>\n",
              "      <td>NaN</td>\n",
              "      <td>-37.79960</td>\n",
              "      <td>144.99840</td>\n",
              "      <td>4019.0</td>\n",
              "    </tr>\n",
              "    <tr>\n",
              "      <th>1</th>\n",
              "      <td>2</td>\n",
              "      <td>2.5</td>\n",
              "      <td>3067.0</td>\n",
              "      <td>2.0</td>\n",
              "      <td>1.0</td>\n",
              "      <td>0.0</td>\n",
              "      <td>156.0</td>\n",
              "      <td>79.0</td>\n",
              "      <td>1900.0</td>\n",
              "      <td>-37.80790</td>\n",
              "      <td>144.99340</td>\n",
              "      <td>4019.0</td>\n",
              "    </tr>\n",
              "    <tr>\n",
              "      <th>2</th>\n",
              "      <td>3</td>\n",
              "      <td>2.5</td>\n",
              "      <td>3067.0</td>\n",
              "      <td>3.0</td>\n",
              "      <td>2.0</td>\n",
              "      <td>0.0</td>\n",
              "      <td>134.0</td>\n",
              "      <td>150.0</td>\n",
              "      <td>1900.0</td>\n",
              "      <td>-37.80930</td>\n",
              "      <td>144.99440</td>\n",
              "      <td>4019.0</td>\n",
              "    </tr>\n",
              "    <tr>\n",
              "      <th>3</th>\n",
              "      <td>3</td>\n",
              "      <td>2.5</td>\n",
              "      <td>3067.0</td>\n",
              "      <td>3.0</td>\n",
              "      <td>2.0</td>\n",
              "      <td>1.0</td>\n",
              "      <td>94.0</td>\n",
              "      <td>NaN</td>\n",
              "      <td>NaN</td>\n",
              "      <td>-37.79690</td>\n",
              "      <td>144.99690</td>\n",
              "      <td>4019.0</td>\n",
              "    </tr>\n",
              "    <tr>\n",
              "      <th>4</th>\n",
              "      <td>4</td>\n",
              "      <td>2.5</td>\n",
              "      <td>3067.0</td>\n",
              "      <td>3.0</td>\n",
              "      <td>1.0</td>\n",
              "      <td>2.0</td>\n",
              "      <td>120.0</td>\n",
              "      <td>142.0</td>\n",
              "      <td>2014.0</td>\n",
              "      <td>-37.80720</td>\n",
              "      <td>144.99410</td>\n",
              "      <td>4019.0</td>\n",
              "    </tr>\n",
              "    <tr>\n",
              "      <th>...</th>\n",
              "      <td>...</td>\n",
              "      <td>...</td>\n",
              "      <td>...</td>\n",
              "      <td>...</td>\n",
              "      <td>...</td>\n",
              "      <td>...</td>\n",
              "      <td>...</td>\n",
              "      <td>...</td>\n",
              "      <td>...</td>\n",
              "      <td>...</td>\n",
              "      <td>...</td>\n",
              "      <td>...</td>\n",
              "    </tr>\n",
              "    <tr>\n",
              "      <th>18391</th>\n",
              "      <td>2</td>\n",
              "      <td>6.8</td>\n",
              "      <td>3016.0</td>\n",
              "      <td>2.0</td>\n",
              "      <td>2.0</td>\n",
              "      <td>1.0</td>\n",
              "      <td>NaN</td>\n",
              "      <td>89.0</td>\n",
              "      <td>2010.0</td>\n",
              "      <td>-37.86393</td>\n",
              "      <td>144.90484</td>\n",
              "      <td>6380.0</td>\n",
              "    </tr>\n",
              "    <tr>\n",
              "      <th>18392</th>\n",
              "      <td>4</td>\n",
              "      <td>6.8</td>\n",
              "      <td>3016.0</td>\n",
              "      <td>4.0</td>\n",
              "      <td>1.0</td>\n",
              "      <td>5.0</td>\n",
              "      <td>866.0</td>\n",
              "      <td>157.0</td>\n",
              "      <td>1920.0</td>\n",
              "      <td>-37.85908</td>\n",
              "      <td>144.89299</td>\n",
              "      <td>6380.0</td>\n",
              "    </tr>\n",
              "    <tr>\n",
              "      <th>18393</th>\n",
              "      <td>4</td>\n",
              "      <td>12.7</td>\n",
              "      <td>3085.0</td>\n",
              "      <td>4.0</td>\n",
              "      <td>3.0</td>\n",
              "      <td>2.0</td>\n",
              "      <td>NaN</td>\n",
              "      <td>NaN</td>\n",
              "      <td>NaN</td>\n",
              "      <td>-37.72006</td>\n",
              "      <td>145.10547</td>\n",
              "      <td>1369.0</td>\n",
              "    </tr>\n",
              "    <tr>\n",
              "      <th>18394</th>\n",
              "      <td>4</td>\n",
              "      <td>6.3</td>\n",
              "      <td>3013.0</td>\n",
              "      <td>4.0</td>\n",
              "      <td>1.0</td>\n",
              "      <td>1.0</td>\n",
              "      <td>362.0</td>\n",
              "      <td>112.0</td>\n",
              "      <td>1920.0</td>\n",
              "      <td>-37.81188</td>\n",
              "      <td>144.88449</td>\n",
              "      <td>6543.0</td>\n",
              "    </tr>\n",
              "    <tr>\n",
              "      <th>18395</th>\n",
              "      <td>4</td>\n",
              "      <td>6.3</td>\n",
              "      <td>3013.0</td>\n",
              "      <td>4.0</td>\n",
              "      <td>2.0</td>\n",
              "      <td>2.0</td>\n",
              "      <td>NaN</td>\n",
              "      <td>139.0</td>\n",
              "      <td>1950.0</td>\n",
              "      <td>-37.81829</td>\n",
              "      <td>144.87404</td>\n",
              "      <td>6543.0</td>\n",
              "    </tr>\n",
              "  </tbody>\n",
              "</table>\n",
              "<p>18396 rows × 12 columns</p>\n",
              "</div>"
            ],
            "text/plain": [
              "       Rooms  Distance  Postcode  ...  Lattitude  Longtitude  Propertycount\n",
              "0          2       2.5    3067.0  ...  -37.79960   144.99840         4019.0\n",
              "1          2       2.5    3067.0  ...  -37.80790   144.99340         4019.0\n",
              "2          3       2.5    3067.0  ...  -37.80930   144.99440         4019.0\n",
              "3          3       2.5    3067.0  ...  -37.79690   144.99690         4019.0\n",
              "4          4       2.5    3067.0  ...  -37.80720   144.99410         4019.0\n",
              "...      ...       ...       ...  ...        ...         ...            ...\n",
              "18391      2       6.8    3016.0  ...  -37.86393   144.90484         6380.0\n",
              "18392      4       6.8    3016.0  ...  -37.85908   144.89299         6380.0\n",
              "18393      4      12.7    3085.0  ...  -37.72006   145.10547         1369.0\n",
              "18394      4       6.3    3013.0  ...  -37.81188   144.88449         6543.0\n",
              "18395      4       6.3    3013.0  ...  -37.81829   144.87404         6543.0\n",
              "\n",
              "[18396 rows x 12 columns]"
            ]
          },
          "metadata": {
            "tags": []
          },
          "execution_count": 46
        }
      ]
    },
    {
      "cell_type": "code",
      "metadata": {
        "id": "sHKev3dYYVxX"
      },
      "source": [
        "y = data_aux.Price"
      ],
      "execution_count": 13,
      "outputs": []
    },
    {
      "cell_type": "code",
      "metadata": {
        "colab": {
          "base_uri": "https://localhost:8080/"
        },
        "id": "Sg5viQOhYaWX",
        "outputId": "bbe49027-6e2a-44b8-e7bb-703c0b47583b"
      },
      "source": [
        "y"
      ],
      "execution_count": 14,
      "outputs": [
        {
          "output_type": "execute_result",
          "data": {
            "text/plain": [
              "0        1480000.0\n",
              "1        1035000.0\n",
              "2        1465000.0\n",
              "3         850000.0\n",
              "4        1600000.0\n",
              "           ...    \n",
              "18391     622500.0\n",
              "18392    2500000.0\n",
              "18393    1100000.0\n",
              "18394    1285000.0\n",
              "18395    1050000.0\n",
              "Name: Price, Length: 18396, dtype: float64"
            ]
          },
          "metadata": {
            "tags": []
          },
          "execution_count": 14
        }
      ]
    },
    {
      "cell_type": "code",
      "metadata": {
        "id": "nZUlNt9lYbde"
      },
      "source": [
        "X_train,X_val,y_train,y_val=train_test_split(X,y,train_size=0.7,test_size=0.3,random_state=0)"
      ],
      "execution_count": 47,
      "outputs": []
    },
    {
      "cell_type": "code",
      "metadata": {
        "colab": {
          "base_uri": "https://localhost:8080/",
          "height": 529
        },
        "id": "zk3xSsEuY71I",
        "outputId": "2f502873-ac7a-4f58-c075-ee32324bd412"
      },
      "source": [
        "msno.bar(X_train)"
      ],
      "execution_count": 48,
      "outputs": [
        {
          "output_type": "execute_result",
          "data": {
            "text/plain": [
              "<matplotlib.axes._subplots.AxesSubplot at 0x7f322b5de1d0>"
            ]
          },
          "metadata": {
            "tags": []
          },
          "execution_count": 48
        },
        {
          "output_type": "display_data",
          "data": {
            "image/png": "[encoded data removed]",
            "text/plain": [
              "<Figure size 1728x720 with 3 Axes>"
            ]
          },
          "metadata": {
            "tags": [],
            "needs_background": "light"
          }
        }
      ]
    },
    {
      "cell_type": "code",
      "metadata": {
        "colab": {
          "base_uri": "https://localhost:8080/",
          "height": 483
        },
        "id": "Y5uH7p27ZSNn",
        "outputId": "1b431d9c-19fd-4342-f704-ba8004e5234b"
      },
      "source": [
        "msno.matrix(X_train)"
      ],
      "execution_count": 49,
      "outputs": [
        {
          "output_type": "execute_result",
          "data": {
            "text/plain": [
              "<matplotlib.axes._subplots.AxesSubplot at 0x7f322b101990>"
            ]
          },
          "metadata": {
            "tags": []
          },
          "execution_count": 49
        },
        {
          "output_type": "display_data",
          "data": {
            "image/png": "[encoded data removed]",
            "text/plain": [
              "<Figure size 1800x720 with 2 Axes>"
            ]
          },
          "metadata": {
            "tags": [],
            "needs_background": "light"
          }
        }
      ]
    },
    {
      "cell_type": "code",
      "metadata": {
        "colab": {
          "base_uri": "https://localhost:8080/",
          "height": 489
        },
        "id": "XsZomQ03b-dY",
        "outputId": "da90d20b-6c9a-42b3-e7ff-13f089de38fa"
      },
      "source": [
        "msno.dendrogram(X_train)"
      ],
      "execution_count": 50,
      "outputs": [
        {
          "output_type": "execute_result",
          "data": {
            "text/plain": [
              "<matplotlib.axes._subplots.AxesSubplot at 0x7f322afdd7d0>"
            ]
          },
          "metadata": {
            "tags": []
          },
          "execution_count": 50
        },
        {
          "output_type": "display_data",
          "data": {
            "image/png": "[encoded data removed]",
            "text/plain": [
              "<Figure size 1800x720 with 1 Axes>"
            ]
          },
          "metadata": {
            "tags": [],
            "needs_background": "light"
          }
        }
      ]
    },
    {
      "cell_type": "code",
      "metadata": {
        "id": "UfsZgN2KdjaO"
      },
      "source": [
        "col_null = [col for col in X_train.columns if X_train[col].isnull().any()]"
      ],
      "execution_count": 51,
      "outputs": []
    },
    {
      "cell_type": "code",
      "metadata": {
        "colab": {
          "base_uri": "https://localhost:8080/"
        },
        "id": "v9VPvvgbdxA2",
        "outputId": "9b12e9f5-cff9-436f-9e1d-29d2eb9372ec"
      },
      "source": [
        "col_null"
      ],
      "execution_count": 52,
      "outputs": [
        {
          "output_type": "execute_result",
          "data": {
            "text/plain": [
              "['Distance',\n",
              " 'Postcode',\n",
              " 'Bedroom2',\n",
              " 'Bathroom',\n",
              " 'Car',\n",
              " 'Landsize',\n",
              " 'BuildingArea',\n",
              " 'YearBuilt',\n",
              " 'Lattitude',\n",
              " 'Longtitude',\n",
              " 'Propertycount']"
            ]
          },
          "metadata": {
            "tags": []
          },
          "execution_count": 52
        }
      ]
    },
    {
      "cell_type": "code",
      "metadata": {
        "id": "8Sm8RIQ4d73o"
      },
      "source": [
        "X_train_nuevo = X_train.drop(col_null,axis=1)"
      ],
      "execution_count": 53,
      "outputs": []
    },
    {
      "cell_type": "code",
      "metadata": {
        "id": "M10v5i9ShN5l"
      },
      "source": [
        "X_val_nuevo = X_val.drop(col_null,axis=1)"
      ],
      "execution_count": 54,
      "outputs": []
    },
    {
      "cell_type": "code",
      "metadata": {
        "colab": {
          "base_uri": "https://localhost:8080/"
        },
        "id": "IWh9vpV4h44G",
        "outputId": "7602ab6a-f003-47a3-8079-1609cc7558b8"
      },
      "source": [
        "X_train_nuevo.isnull().sum()"
      ],
      "execution_count": 55,
      "outputs": [
        {
          "output_type": "execute_result",
          "data": {
            "text/plain": [
              "Rooms    0\n",
              "dtype: int64"
            ]
          },
          "metadata": {
            "tags": []
          },
          "execution_count": 55
        }
      ]
    },
    {
      "cell_type": "code",
      "metadata": {
        "colab": {
          "base_uri": "https://localhost:8080/",
          "height": 457
        },
        "id": "YZ3eC5Yzh_Lm",
        "outputId": "24c8451e-5257-476e-e0dc-8fa07856a3d3"
      },
      "source": [
        "msno.matrix(X_train_nuevo)"
      ],
      "execution_count": 56,
      "outputs": [
        {
          "output_type": "execute_result",
          "data": {
            "text/plain": [
              "<matplotlib.axes._subplots.AxesSubplot at 0x7f322b00b350>"
            ]
          },
          "metadata": {
            "tags": []
          },
          "execution_count": 56
        },
        {
          "output_type": "display_data",
          "data": {
            "image/png": "[encoded data removed]",
            "text/plain": [
              "<Figure size 1800x720 with 2 Axes>"
            ]
          },
          "metadata": {
            "tags": [],
            "needs_background": "light"
          }
        }
      ]
    },
    {
      "cell_type": "code",
      "metadata": {
        "colab": {
          "base_uri": "https://localhost:8080/"
        },
        "id": "djrCMTetiK0_",
        "outputId": "65bc78cb-abc2-40dd-c5fd-febfd625af05"
      },
      "source": [
        "X_val_nuevo.isnull().sum()"
      ],
      "execution_count": 57,
      "outputs": [
        {
          "output_type": "execute_result",
          "data": {
            "text/plain": [
              "Rooms    0\n",
              "dtype: int64"
            ]
          },
          "metadata": {
            "tags": []
          },
          "execution_count": 57
        }
      ]
    },
    {
      "cell_type": "code",
      "metadata": {
        "colab": {
          "base_uri": "https://localhost:8080/"
        },
        "id": "ysky0HlTjXI9",
        "outputId": "2afe4497-0bbd-4762-ca84-b7eaaae8ea63"
      },
      "source": [
        "X_train_nuevo.info()"
      ],
      "execution_count": 58,
      "outputs": [
        {
          "output_type": "stream",
          "text": [
            "<class 'pandas.core.frame.DataFrame'>\n",
            "Int64Index: 12877 entries, 5043 to 2732\n",
            "Data columns (total 1 columns):\n",
            " #   Column  Non-Null Count  Dtype\n",
            "---  ------  --------------  -----\n",
            " 0   Rooms   12877 non-null  int64\n",
            "dtypes: int64(1)\n",
            "memory usage: 201.2 KB\n"
          ],
          "name": "stdout"
        }
      ]
    },
    {
      "cell_type": "code",
      "metadata": {
        "colab": {
          "base_uri": "https://localhost:8080/",
          "height": 419
        },
        "id": "rq1nA0dZkmZv",
        "outputId": "b30ae3f5-4751-43e1-e3a2-a32cf9acc06f"
      },
      "source": [
        "X_train_nuevo"
      ],
      "execution_count": 35,
      "outputs": [
        {
          "output_type": "execute_result",
          "data": {
            "text/html": [
              "<div>\n",
              "<style scoped>\n",
              "    .dataframe tbody tr th:only-of-type {\n",
              "        vertical-align: middle;\n",
              "    }\n",
              "\n",
              "    .dataframe tbody tr th {\n",
              "        vertical-align: top;\n",
              "    }\n",
              "\n",
              "    .dataframe thead th {\n",
              "        text-align: right;\n",
              "    }\n",
              "</style>\n",
              "<table border=\"1\" class=\"dataframe\">\n",
              "  <thead>\n",
              "    <tr style=\"text-align: right;\">\n",
              "      <th></th>\n",
              "      <th>Suburb</th>\n",
              "      <th>Address</th>\n",
              "      <th>Rooms</th>\n",
              "      <th>Type</th>\n",
              "      <th>Method</th>\n",
              "      <th>SellerG</th>\n",
              "      <th>Date</th>\n",
              "    </tr>\n",
              "  </thead>\n",
              "  <tbody>\n",
              "    <tr>\n",
              "      <th>5043</th>\n",
              "      <td>Maribyrnong</td>\n",
              "      <td>31 Forge Cl</td>\n",
              "      <td>3</td>\n",
              "      <td>t</td>\n",
              "      <td>SP</td>\n",
              "      <td>First</td>\n",
              "      <td>22/05/2016</td>\n",
              "    </tr>\n",
              "    <tr>\n",
              "      <th>1402</th>\n",
              "      <td>Brighton</td>\n",
              "      <td>17 New St</td>\n",
              "      <td>3</td>\n",
              "      <td>h</td>\n",
              "      <td>S</td>\n",
              "      <td>Marshall</td>\n",
              "      <td>6/08/2016</td>\n",
              "    </tr>\n",
              "    <tr>\n",
              "      <th>13712</th>\n",
              "      <td>MacLeod</td>\n",
              "      <td>5/105 Torbay St</td>\n",
              "      <td>2</td>\n",
              "      <td>u</td>\n",
              "      <td>S</td>\n",
              "      <td>Darren</td>\n",
              "      <td>8/07/2017</td>\n",
              "    </tr>\n",
              "    <tr>\n",
              "      <th>3368</th>\n",
              "      <td>Flemington</td>\n",
              "      <td>4 Farnham St</td>\n",
              "      <td>3</td>\n",
              "      <td>h</td>\n",
              "      <td>S</td>\n",
              "      <td>Nelson</td>\n",
              "      <td>27/11/2016</td>\n",
              "    </tr>\n",
              "    <tr>\n",
              "      <th>8805</th>\n",
              "      <td>Fawkner</td>\n",
              "      <td>1/66 Lorne St</td>\n",
              "      <td>3</td>\n",
              "      <td>u</td>\n",
              "      <td>SP</td>\n",
              "      <td>Brad</td>\n",
              "      <td>26/07/2016</td>\n",
              "    </tr>\n",
              "    <tr>\n",
              "      <th>...</th>\n",
              "      <td>...</td>\n",
              "      <td>...</td>\n",
              "      <td>...</td>\n",
              "      <td>...</td>\n",
              "      <td>...</td>\n",
              "      <td>...</td>\n",
              "      <td>...</td>\n",
              "    </tr>\n",
              "    <tr>\n",
              "      <th>9225</th>\n",
              "      <td>Albion</td>\n",
              "      <td>25 Brisbane St</td>\n",
              "      <td>2</td>\n",
              "      <td>u</td>\n",
              "      <td>S</td>\n",
              "      <td>Barry</td>\n",
              "      <td>24/09/2016</td>\n",
              "    </tr>\n",
              "    <tr>\n",
              "      <th>13123</th>\n",
              "      <td>Elwood</td>\n",
              "      <td>2/25 Kingsley St</td>\n",
              "      <td>2</td>\n",
              "      <td>u</td>\n",
              "      <td>S</td>\n",
              "      <td>Chisholm</td>\n",
              "      <td>27/05/2017</td>\n",
              "    </tr>\n",
              "    <tr>\n",
              "      <th>9845</th>\n",
              "      <td>Coburg</td>\n",
              "      <td>3 Beckwith St</td>\n",
              "      <td>3</td>\n",
              "      <td>h</td>\n",
              "      <td>S</td>\n",
              "      <td>Nelson</td>\n",
              "      <td>29/04/2017</td>\n",
              "    </tr>\n",
              "    <tr>\n",
              "      <th>10799</th>\n",
              "      <td>West Footscray</td>\n",
              "      <td>16 Hope St</td>\n",
              "      <td>3</td>\n",
              "      <td>h</td>\n",
              "      <td>PI</td>\n",
              "      <td>Burnham</td>\n",
              "      <td>20/05/2017</td>\n",
              "    </tr>\n",
              "    <tr>\n",
              "      <th>2732</th>\n",
              "      <td>Collingwood</td>\n",
              "      <td>27/78 Oxford St</td>\n",
              "      <td>2</td>\n",
              "      <td>u</td>\n",
              "      <td>PI</td>\n",
              "      <td>Biggin</td>\n",
              "      <td>14/05/2016</td>\n",
              "    </tr>\n",
              "  </tbody>\n",
              "</table>\n",
              "<p>12877 rows × 7 columns</p>\n",
              "</div>"
            ],
            "text/plain": [
              "               Suburb           Address  Rooms  ... Method   SellerG        Date\n",
              "5043      Maribyrnong       31 Forge Cl      3  ...     SP     First  22/05/2016\n",
              "1402         Brighton         17 New St      3  ...      S  Marshall   6/08/2016\n",
              "13712         MacLeod   5/105 Torbay St      2  ...      S    Darren   8/07/2017\n",
              "3368       Flemington      4 Farnham St      3  ...      S    Nelson  27/11/2016\n",
              "8805          Fawkner     1/66 Lorne St      3  ...     SP      Brad  26/07/2016\n",
              "...               ...               ...    ...  ...    ...       ...         ...\n",
              "9225           Albion    25 Brisbane St      2  ...      S     Barry  24/09/2016\n",
              "13123          Elwood  2/25 Kingsley St      2  ...      S  Chisholm  27/05/2017\n",
              "9845           Coburg     3 Beckwith St      3  ...      S    Nelson  29/04/2017\n",
              "10799  West Footscray        16 Hope St      3  ...     PI   Burnham  20/05/2017\n",
              "2732      Collingwood   27/78 Oxford St      2  ...     PI    Biggin  14/05/2016\n",
              "\n",
              "[12877 rows x 7 columns]"
            ]
          },
          "metadata": {
            "tags": []
          },
          "execution_count": 35
        }
      ]
    },
    {
      "cell_type": "code",
      "metadata": {
        "id": "P_c-B9o9kpH_"
      },
      "source": [
        ""
      ],
      "execution_count": 38,
      "outputs": []
    },
    {
      "cell_type": "code",
      "metadata": {
        "colab": {
          "base_uri": "https://localhost:8080/"
        },
        "id": "czsLipIklod9",
        "outputId": "18b3fd41-e36a-4b86-bdeb-922c578ccc46"
      },
      "source": [
        ""
      ],
      "execution_count": 41,
      "outputs": [
        {
          "output_type": "execute_result",
          "data": {
            "text/plain": [
              "(12877, 13412)"
            ]
          },
          "metadata": {
            "tags": []
          },
          "execution_count": 41
        }
      ]
    },
    {
      "cell_type": "code",
      "metadata": {
        "colab": {
          "base_uri": "https://localhost:8080/"
        },
        "id": "Bz22HKP_lsLs",
        "outputId": "013d690f-af92-4821-96c8-d9ae658f6bd5"
      },
      "source": [
        ""
      ],
      "execution_count": 42,
      "outputs": [
        {
          "output_type": "execute_result",
          "data": {
            "text/plain": [
              "(5519, 6061)"
            ]
          },
          "metadata": {
            "tags": []
          },
          "execution_count": 42
        }
      ]
    },
    {
      "cell_type": "code",
      "metadata": {
        "colab": {
          "base_uri": "https://localhost:8080/"
        },
        "id": "8U5tkze7iR5G",
        "outputId": "02d58617-44e8-4187-9973-27e929fedffc"
      },
      "source": [
        "model = RandomForestRegressor(n_estimators=10,random_state=0)\n",
        "model.fit(X_train_nuevo,y_train)"
      ],
      "execution_count": 60,
      "outputs": [
        {
          "output_type": "execute_result",
          "data": {
            "text/plain": [
              "RandomForestRegressor(bootstrap=True, ccp_alpha=0.0, criterion='mse',\n",
              "                      max_depth=None, max_features='auto', max_leaf_nodes=None,\n",
              "                      max_samples=None, min_impurity_decrease=0.0,\n",
              "                      min_impurity_split=None, min_samples_leaf=1,\n",
              "                      min_samples_split=2, min_weight_fraction_leaf=0.0,\n",
              "                      n_estimators=10, n_jobs=None, oob_score=False,\n",
              "                      random_state=0, verbose=0, warm_start=False)"
            ]
          },
          "metadata": {
            "tags": []
          },
          "execution_count": 60
        }
      ]
    },
    {
      "cell_type": "code",
      "metadata": {
        "id": "8Nv1NNTnldue"
      },
      "source": [
        "y_pred = model.predict(X_val_nuevo)"
      ],
      "execution_count": 61,
      "outputs": []
    },
    {
      "cell_type": "code",
      "metadata": {
        "id": "5J0nK6wilcKe"
      },
      "source": [
        "error = mean_absolute_error(y_val,y_pred)"
      ],
      "execution_count": 62,
      "outputs": []
    },
    {
      "cell_type": "code",
      "metadata": {
        "colab": {
          "base_uri": "https://localhost:8080/"
        },
        "id": "D7pD6l_EjF6t",
        "outputId": "ce5e1237-3390-4e9b-db7c-962919b7bc62"
      },
      "source": [
        "error"
      ],
      "execution_count": 63,
      "outputs": [
        {
          "output_type": "execute_result",
          "data": {
            "text/plain": [
              "388203.59752749983"
            ]
          },
          "metadata": {
            "tags": []
          },
          "execution_count": 63
        }
      ]
    },
    {
      "cell_type": "code",
      "metadata": {
        "id": "lZfCIQYQnTNW"
      },
      "source": [
        "simple_imputer = SimpleImputer()\n",
        "X_train_imputer = pd.DataFrame(simple_imputer.fit_transform(X_train))\n",
        "X_val_imputer = pd.DataFrame(simple_imputer.fit_transform(X_val))"
      ],
      "execution_count": 65,
      "outputs": []
    },
    {
      "cell_type": "code",
      "metadata": {
        "colab": {
          "base_uri": "https://localhost:8080/"
        },
        "id": "-t-XUI8-n6c3",
        "outputId": "a8be2dbd-2e42-45ca-a383-383251dbab0c"
      },
      "source": [
        "model = RandomForestRegressor(n_estimators=10,random_state=0)\n",
        "model.fit(X_train_imputer,y_train)"
      ],
      "execution_count": 66,
      "outputs": [
        {
          "output_type": "execute_result",
          "data": {
            "text/plain": [
              "RandomForestRegressor(bootstrap=True, ccp_alpha=0.0, criterion='mse',\n",
              "                      max_depth=None, max_features='auto', max_leaf_nodes=None,\n",
              "                      max_samples=None, min_impurity_decrease=0.0,\n",
              "                      min_impurity_split=None, min_samples_leaf=1,\n",
              "                      min_samples_split=2, min_weight_fraction_leaf=0.0,\n",
              "                      n_estimators=10, n_jobs=None, oob_score=False,\n",
              "                      random_state=0, verbose=0, warm_start=False)"
            ]
          },
          "metadata": {
            "tags": []
          },
          "execution_count": 66
        }
      ]
    },
    {
      "cell_type": "code",
      "metadata": {
        "id": "m91sK6YboL5c"
      },
      "source": [
        "y_pred_imputer = model.predict(X_val_imputer)"
      ],
      "execution_count": 67,
      "outputs": []
    },
    {
      "cell_type": "code",
      "metadata": {
        "colab": {
          "base_uri": "https://localhost:8080/"
        },
        "id": "1htfFc2VoOw9",
        "outputId": "a7201d1a-b1b0-464e-b627-8239fad5f26a"
      },
      "source": [
        "print(mean_absolute_error(y_val,y_pred_imputer))"
      ],
      "execution_count": 68,
      "outputs": [
        {
          "output_type": "stream",
          "text": [
            "203132.5243219905\n"
          ],
          "name": "stdout"
        }
      ]
    },
    {
      "cell_type": "code",
      "metadata": {
        "id": "YXiaETSbohh-"
      },
      "source": [
        "import MICE"
      ],
      "execution_count": null,
      "outputs": []
    }
  ]
}